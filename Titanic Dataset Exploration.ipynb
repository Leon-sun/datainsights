{
 "cells": [
  {
   "cell_type": "markdown",
   "metadata": {},
   "source": [
    "\n",
    "***Titanic Dataset Research***\n",
    "================"
   ]
  },
  {
   "cell_type": "code",
   "execution_count": 22,
   "metadata": {
    "collapsed": true
   },
   "outputs": [],
   "source": [
    "# 1st import necessary libraries to analyize the data\n",
    "import numpy as np \n",
    "import pandas as pd\n",
    "import matplotlib.pyplot as plt \n",
    "import seaborn as sns\n",
    "import statsmodels.formula.api as sm"
   ]
  },
  {
   "cell_type": "markdown",
   "metadata": {},
   "source": [
    "*load the data set*\n",
    "----"
   ]
  },
  {
   "cell_type": "code",
   "execution_count": 23,
   "metadata": {},
   "outputs": [
    {
     "name": "stdout",
     "output_type": "stream",
     "text": [
      "   PassengerId  Survived  Pclass  \\\n",
      "0            1         0       3   \n",
      "1            2         1       1   \n",
      "2            3         1       3   \n",
      "3            4         1       1   \n",
      "4            5         0       3   \n",
      "\n",
      "                                                Name     Sex   Age  SibSp  \\\n",
      "0                            Braund, Mr. Owen Harris    male  22.0      1   \n",
      "1  Cumings, Mrs. John Bradley (Florence Briggs Th...  female  38.0      1   \n",
      "2                             Heikkinen, Miss. Laina  female  26.0      0   \n",
      "3       Futrelle, Mrs. Jacques Heath (Lily May Peel)  female  35.0      1   \n",
      "4                           Allen, Mr. William Henry    male  35.0      0   \n",
      "\n",
      "   Parch            Ticket     Fare Cabin Embarked  \n",
      "0      0         A/5 21171   7.2500   NaN        S  \n",
      "1      0          PC 17599  71.2833   C85        C  \n",
      "2      0  STON/O2. 3101282   7.9250   NaN        S  \n",
      "3      0            113803  53.1000  C123        S  \n",
      "4      0            373450   8.0500   NaN        S  \n",
      "------------------------------------------------------------------------------------------\n",
      "       PassengerId    Survived      Pclass         Age       SibSp  \\\n",
      "count   891.000000  891.000000  891.000000  714.000000  891.000000   \n",
      "mean    446.000000    0.383838    2.308642   29.699118    0.523008   \n",
      "std     257.353842    0.486592    0.836071   14.526497    1.102743   \n",
      "min       1.000000    0.000000    1.000000    0.420000    0.000000   \n",
      "25%     223.500000    0.000000    2.000000   20.125000    0.000000   \n",
      "50%     446.000000    0.000000    3.000000   28.000000    0.000000   \n",
      "75%     668.500000    1.000000    3.000000   38.000000    1.000000   \n",
      "max     891.000000    1.000000    3.000000   80.000000    8.000000   \n",
      "\n",
      "            Parch        Fare  \n",
      "count  891.000000  891.000000  \n",
      "mean     0.381594   32.204208  \n",
      "std      0.806057   49.693429  \n",
      "min      0.000000    0.000000  \n",
      "25%      0.000000    7.910400  \n",
      "50%      0.000000   14.454200  \n",
      "75%      0.000000   31.000000  \n",
      "max      6.000000  512.329200  \n",
      "[0 1 2 5 3 4 6]\n"
     ]
    }
   ],
   "source": [
    "#load the data set#\n",
    "Tita_df=pd.read_csv('titanic-data.csv')\n",
    "\n",
    "#the basic data statistics\n",
    "print Tita_df.head(5)\n",
    "print '---'*30\n",
    "print Tita_df.describe()\n",
    "print Tita_df['Parch'].unique()"
   ]
  },
  {
   "cell_type": "markdown",
   "metadata": {},
   "source": [
    "__Reseach Question__ <br>\n",
    "\n",
    "_Try to identify some factors that affected people's survival_<br>\n",
    "_Let's Check for the relationship between survival rate and numbers of family_"
   ]
  },
  {
   "cell_type": "code",
   "execution_count": 34,
   "metadata": {
    "collapsed": true
   },
   "outputs": [],
   "source": [
    "#create func to see rate of survival of certain group\n",
    "def get_group_survived(group_by):\n",
    "    group_result=Tita_df['Survived'].groupby(Tita_df[group_by]).sum()\n",
    "    return group_result\n",
    "\n",
    "def get_group_total(group_by):\n",
    "    group_result=Tita_df[group_by].groupby(Tita_df[group_by]).count()\n",
    "    return group_result"
   ]
  },
  {
   "cell_type": "code",
   "execution_count": 35,
   "metadata": {},
   "outputs": [
    {
     "name": "stdout",
     "output_type": "stream",
     "text": [
      "Parch\n",
      "0    678\n",
      "1    118\n",
      "2     80\n",
      "3      5\n",
      "4      4\n",
      "5      5\n",
      "6      1\n",
      "Name: Parch, dtype: int64 Parch\n",
      "0    233\n",
      "1     65\n",
      "2     40\n",
      "3      3\n",
      "4      0\n",
      "5      1\n",
      "6      0\n",
      "Name: Survived, dtype: int64\n",
      "SibSp\n",
      "0    608\n",
      "1    209\n",
      "2     28\n",
      "3     16\n",
      "4     18\n",
      "5      5\n",
      "8      7\n",
      "Name: SibSp, dtype: int64 SibSp\n",
      "0    210\n",
      "1    112\n",
      "2     13\n",
      "3      4\n",
      "4      3\n",
      "5      0\n",
      "8      0\n",
      "Name: Survived, dtype: int64\n"
     ]
    }
   ],
   "source": [
    "##Survived VS Total # of parents / children aboard the Titanic\n",
    "Parch_survived_groups=get_group_survived(\"Parch\")\n",
    "Parch_groups=get_group_total('Parch')\n",
    "\n",
    "##Survived VS Total # of siblings / spouses aboard the Titanic\n",
    "Sib_survived_groups=get_group_survived('SibSp')\n",
    "Sib_groups=get_group_total('SibSp')\n",
    "\n",
    "print Parch_groups,Parch_survived_groups\n",
    "print Sib_groups,Sib_survived_groups"
   ]
  },
  {
   "cell_type": "markdown",
   "metadata": {},
   "source": [
    "_The results seems unclear, take a visual on it_"
   ]
  },
  {
   "cell_type": "code",
   "execution_count": 36,
   "metadata": {},
   "outputs": [
    {
     "data": {
      "image/png": "[encoded data removed]",
      "text/plain": [
       "<matplotlib.figure.Figure at 0x114c53d10>"
      ]
     },
     "metadata": {},
     "output_type": "display_data"
    }
   ],
   "source": [
    "plt.plot(Parch_groups,'ro')\n",
    "plt.plot(Parch_survived_groups,'ro',color='orange')\n",
    "plt.show()"
   ]
  },
  {
   "cell_type": "markdown",
   "metadata": {},
   "source": [
    "_The survival rate between people have different # of parents / children aboard the Titanic seems present a weak connection, since some group with more parents / children tends to have higher probablity of survival,while others are not_"
   ]
  },
  {
   "cell_type": "code",
   "execution_count": 37,
   "metadata": {},
   "outputs": [
    {
     "data": {
      "image/png": "[encoded data removed]",
      "text/plain": [
       "<matplotlib.figure.Figure at 0x114d6fe50>"
      ]
     },
     "metadata": {},
     "output_type": "display_data"
    }
   ],
   "source": [
    "plt.plot(Sib_groups,'ro')\n",
    "plt.plot(Sib_survived_groups,'ro',color='orange')\n",
    "plt.show()"
   ]
  },
  {
   "cell_type": "markdown",
   "metadata": {},
   "source": [
    "_The survival rate between people have different # of siblings/ spouse seems more consistent, which is nagetively related_"
   ]
  },
  {
   "cell_type": "code",
   "execution_count": 38,
   "metadata": {},
   "outputs": [
    {
     "data": {
      "text/plain": [
       "count    714.000000\n",
       "mean      29.699118\n",
       "std       14.526497\n",
       "min        0.420000\n",
       "25%       20.125000\n",
       "50%       28.000000\n",
       "75%       38.000000\n",
       "max       80.000000\n",
       "Name: Age, dtype: float64"
      ]
     },
     "execution_count": 38,
     "metadata": {},
     "output_type": "execute_result"
    }
   ],
   "source": [
    "#Check the variable 'Age'\n",
    "Tita_df['Age'].isnull().sum()\n",
    "Tita_df['Age'].describe()"
   ]
  },
  {
   "cell_type": "code",
   "execution_count": 51,
   "metadata": {},
   "outputs": [
    {
     "name": "stdout",
     "output_type": "stream",
     "text": [
      "Age_group\n",
      "Adult    557\n",
      "Young     83\n",
      "old      251\n",
      "Name: Age_group, dtype: int64 Age_group\n",
      "Adult    214\n",
      "Young     49\n",
      "old       79\n",
      "Name: Survived, dtype: int64\n"
     ]
    }
   ],
   "source": [
    "## Turn Age into groups, to make the relation more esay to see \n",
    "def Age_cata_groups(age):\n",
    "    if age<16:\n",
    "        return 'Young'\n",
    "    elif age<50:\n",
    "        return 'Adult'\n",
    "    else:\n",
    "        return 'old'\n",
    "    \n",
    "Tita_df['Age_group']=Tita_df['Age'].apply(Age_cata_groups)\n",
    "\n",
    "#Survived VS Total # of people in diff age_group aboard the Titanic\n",
    "Hcount_by_age=get_group_total('Age_group')\n",
    "Survived_by_age=get_group_survived('Age_group')\n",
    "\n",
    "print Hcount_by_age,Survived_by_age"
   ]
  },
  {
   "cell_type": "markdown",
   "metadata": {},
   "source": [
    "_Older people tend to have lower survival rate_"
   ]
  },
  {
   "cell_type": "code",
   "execution_count": 57,
   "metadata": {},
   "outputs": [
    {
     "data": {
      "image/png": "[encoded data removed]",
      "text/plain": [
       "<matplotlib.figure.Figure at 0x114c0d0d0>"
      ]
     },
     "metadata": {},
     "output_type": "display_data"
    }
   ],
   "source": [
    "sns.barplot(x=\"Age_group\", y=\"Survived\",data=Tita_df)\n",
    "plt.show()"
   ]
  },
  {
   "cell_type": "markdown",
   "metadata": {},
   "source": [
    "_The result indicate that younger persons are more likely to live_"
   ]
  },
  {
   "cell_type": "code",
   "execution_count": 40,
   "metadata": {},
   "outputs": [
    {
     "name": "stdout",
     "output_type": "stream",
     "text": [
      "Sex\n",
      "female    314\n",
      "male      577\n",
      "Name: Sex, dtype: int64\n",
      "Sex\n",
      "female    233\n",
      "male      109\n",
      "Name: Survived, dtype: int64\n"
     ]
    }
   ],
   "source": [
    "#Survived VS Total # of people in diff sex aboard the Titanic\n",
    "HCount_by_sex=get_group_total('Sex')\n",
    "Survived_by_sex = get_group_survived('Sex')\n",
    "print HCount_by_sex,Survived_by_sex "
   ]
  },
  {
   "cell_type": "code",
   "execution_count": 62,
   "metadata": {},
   "outputs": [
    {
     "data": {
      "image/png": "[encoded data removed]",
      "text/plain": [
       "<matplotlib.figure.Figure at 0x113c53810>"
      ]
     },
     "metadata": {},
     "output_type": "display_data"
    }
   ],
   "source": [
    "# visual check see if sex is a factor that impacts the survival rate\n",
    "sns.barplot(x=\"Sex\", y=\"Survived\",data=Tita_df)\n",
    "plt.show()"
   ]
  },
  {
   "cell_type": "markdown",
   "metadata": {},
   "source": [
    "_seems like Female are much more likely to be safed_"
   ]
  },
  {
   "cell_type": "code",
   "execution_count": 61,
   "metadata": {},
   "outputs": [
    {
     "name": "stdout",
     "output_type": "stream",
     "text": [
      "Pclass\n",
      "1    136\n",
      "2     87\n",
      "3    119\n",
      "Name: Survived, dtype: int64 Pclass\n",
      "1    216\n",
      "2    184\n",
      "3    491\n",
      "Name: Pclass, dtype: int64\n"
     ]
    }
   ],
   "source": [
    "#Survived VS Total # of people in diff ticket class aboard the Titanic\n",
    "Survived_by_Pclass=get_group_survived('Pclass')\n",
    "Hcount_Pclass=get_group_total('Pclass')\n",
    "\n",
    "print Survived_by_Pclass,Hcount_Pclass"
   ]
  },
  {
   "cell_type": "code",
   "execution_count": 60,
   "metadata": {},
   "outputs": [
    {
     "data": {
      "image/png": "[encoded data removed]",
      "text/plain": [
       "<matplotlib.figure.Figure at 0x113c3f090>"
      ]
     },
     "metadata": {},
     "output_type": "display_data"
    }
   ],
   "source": [
    "plt.plot(Hcount_Pclass,'ro',color='blue')\n",
    "plt.plot(Survived_by_Pclass,'ro',color='orange')\n",
    "\n",
    "plt.show()"
   ]
  },
  {
   "cell_type": "markdown",
   "metadata": {},
   "source": [
    "_People when buyer higher class of ticket is also more likely to survive_"
   ]
  },
  {
   "cell_type": "code",
   "execution_count": 66,
   "metadata": {},
   "outputs": [
    {
     "name": "stdout",
     "output_type": "stream",
     "text": [
      "Intercept      1.401792\n",
      "Sex[T.male]   -0.489797\n",
      "Parch         -0.008990\n",
      "SibSp         -0.051687\n",
      "Age           -0.006588\n",
      "Pclass        -0.205147\n",
      "dtype: float64\n",
      "                            OLS Regression Results                            \n",
      "==============================================================================\n",
      "Dep. Variable:               Survived   R-squared:                       0.400\n",
      "Model:                            OLS   Adj. R-squared:                  0.396\n",
      "Method:                 Least Squares   F-statistic:                     94.37\n",
      "Date:                Tue, 01 Aug 2017   Prob (F-statistic):           3.94e-76\n",
      "Time:                        14:53:07   Log-Likelihood:                -323.10\n",
      "No. Observations:                 714   AIC:                             658.2\n",
      "Df Residuals:                     708   BIC:                             685.6\n",
      "Df Model:                           5                                         \n",
      "Covariance Type:            nonrobust                                         \n",
      "===============================================================================\n",
      "                  coef    std err          t      P>|t|      [0.025      0.975]\n",
      "-------------------------------------------------------------------------------\n",
      "Intercept       1.4018      0.067     21.072      0.000       1.271       1.532\n",
      "Sex[T.male]    -0.4898      0.031    -15.645      0.000      -0.551      -0.428\n",
      "Parch          -0.0090      0.019     -0.481      0.631      -0.046       0.028\n",
      "SibSp          -0.0517      0.017     -2.993      0.003      -0.086      -0.018\n",
      "Age            -0.0066      0.001     -5.854      0.000      -0.009      -0.004\n",
      "Pclass         -0.2051      0.019    -10.923      0.000      -0.242      -0.168\n",
      "==============================================================================\n",
      "Omnibus:                       25.558   Durbin-Watson:                   1.847\n",
      "Prob(Omnibus):                  0.000   Jarque-Bera (JB):               27.610\n",
      "Skew:                           0.481   Prob(JB):                     1.01e-06\n",
      "Kurtosis:                       3.037   Cond. No.                         159.\n",
      "==============================================================================\n",
      "\n",
      "Warnings:\n",
      "[1] Standard Errors assume that the covariance matrix of the errors is correctly specified.\n"
     ]
    }
   ],
   "source": [
    "# now I use liner regression to test my earlier analysis\n",
    "result=sm.ols(formula='Survived~Parch+Sex+SibSp+Age+Pclass',data=Tita_df).fit()\n",
    "print result.params\n",
    "print result.summary()"
   ]
  },
  {
   "cell_type": "markdown",
   "metadata": {},
   "source": [
    "_Regression result indicates, at a significant level of 0.1, we fail to reject the null hypothesis that survival rate is connect with sex, # of sib/spouse , Age and Ticket class. However, Parch is not a significant factor_ "
   ]
  },
  {
   "cell_type": "markdown",
   "metadata": {
    "collapsed": true
   },
   "source": [
    "__Conclusion: I test the data set. The result suggests that Survival rate of the Titanic catastroph is related to which sex your are, how many siblings or spouse you have accompaned, whether you are a old people or young and the ticket class you get. __"
   ]
  },
  {
   "cell_type": "code",
   "execution_count": null,
   "metadata": {
    "collapsed": true
   },
   "outputs": [],
   "source": []
  }
 ],
 "metadata": {
  "kernelspec": {
   "display_name": "Python 2",
   "language": "python",
   "name": "python2"
  },
  "language_info": {
   "codemirror_mode": {
    "name": "ipython",
    "version": 2
   },
   "file_extension": ".py",
   "mimetype": "text/x-python",
   "name": "python",
   "nbconvert_exporter": "python",
   "pygments_lexer": "ipython2",
   "version": "2.7.13"
  }
 },
 "nbformat": 4,
 "nbformat_minor": 2
}
