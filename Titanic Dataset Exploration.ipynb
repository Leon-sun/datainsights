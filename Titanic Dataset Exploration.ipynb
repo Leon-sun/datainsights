{
 "cells": [
  {
   "cell_type": "markdown",
   "metadata": {},
   "source": [
    "\n",
    "***Titanic Dataset Research***\n",
    "================"
   ]
  },
  {
   "cell_type": "code",
   "execution_count": 22,
   "metadata": {
    "collapsed": true
   },
   "outputs": [],
   "source": [
    "# 1st import necessary libraries to analyize the data\n",
    "import numpy as np \n",
    "import pandas as pd\n",
    "import matplotlib.pyplot as plt \n",
    "import seaborn as sns\n",
    "import statsmodels.formula.api as sm"
   ]
  },
  {
   "cell_type": "markdown",
   "metadata": {},
   "source": [
    "*load the data set*\n",
    "----"
   ]
  },
  {
   "cell_type": "code",
   "execution_count": 23,
   "metadata": {},
   "outputs": [
    {
     "name": "stdout",
     "output_type": "stream",
     "text": [
      "   PassengerId  Survived  Pclass  \\\n",
      "0            1         0       3   \n",
      "1            2         1       1   \n",
      "2            3         1       3   \n",
      "3            4         1       1   \n",
      "4            5         0       3   \n",
      "\n",
      "                                                Name     Sex   Age  SibSp  \\\n",
      "0                            Braund, Mr. Owen Harris    male  22.0      1   \n",
      "1  Cumings, Mrs. John Bradley (Florence Briggs Th...  female  38.0      1   \n",
      "2                             Heikkinen, Miss. Laina  female  26.0      0   \n",
      "3       Futrelle, Mrs. Jacques Heath (Lily May Peel)  female  35.0      1   \n",
      "4                           Allen, Mr. William Henry    male  35.0      0   \n",
      "\n",
      "   Parch            Ticket     Fare Cabin Embarked  \n",
      "0      0         A/5 21171   7.2500   NaN        S  \n",
      "1      0          PC 17599  71.2833   C85        C  \n",
      "2      0  STON/O2. 3101282   7.9250   NaN        S  \n",
      "3      0            113803  53.1000  C123        S  \n",
      "4      0            373450   8.0500   NaN        S  \n",
      "------------------------------------------------------------------------------------------\n",
      "       PassengerId    Survived      Pclass         Age       SibSp  \\\n",
      "count   891.000000  891.000000  891.000000  714.000000  891.000000   \n",
      "mean    446.000000    0.383838    2.308642   29.699118    0.523008   \n",
      "std     257.353842    0.486592    0.836071   14.526497    1.102743   \n",
      "min       1.000000    0.000000    1.000000    0.420000    0.000000   \n",
      "25%     223.500000    0.000000    2.000000   20.125000    0.000000   \n",
      "50%     446.000000    0.000000    3.000000   28.000000    0.000000   \n",
      "75%     668.500000    1.000000    3.000000   38.000000    1.000000   \n",
      "max     891.000000    1.000000    3.000000   80.000000    8.000000   \n",
      "\n",
      "            Parch        Fare  \n",
      "count  891.000000  891.000000  \n",
      "mean     0.381594   32.204208  \n",
      "std      0.806057   49.693429  \n",
      "min      0.000000    0.000000  \n",
      "25%      0.000000    7.910400  \n",
      "50%      0.000000   14.454200  \n",
      "75%      0.000000   31.000000  \n",
      "max      6.000000  512.329200  \n",
      "[0 1 2 5 3 4 6]\n"
     ]
    }
   ],
   "source": [
    "#load the data set#\n",
    "Tita_df=pd.read_csv('titanic-data.csv')\n",
    "\n",
    "#the basic data statistics\n",
    "print Tita_df.head(5)\n",
    "print '---'*30\n",
    "print Tita_df.describe()\n",
    "print Tita_df['Parch'].unique()"
   ]
  },
  {
   "cell_type": "markdown",
   "metadata": {},
   "source": [
    "__Reseach Question__ <br>\n",
    "\n",
    "_Try to identify some factors that affected people's survival_<br>\n",
    "_Let's Check for the relationship between survival rate and numbers of family_"
   ]
  },
  {
   "cell_type": "code",
   "execution_count": 34,
   "metadata": {
    "collapsed": true
   },
   "outputs": [],
   "source": [
    "#create func to see rate of survival of certain group\n",
    "def get_group_survived(group_by):\n",
    "    group_result=Tita_df['Survived'].groupby(Tita_df[group_by]).sum()\n",
    "    return group_result\n",
    "\n",
    "def get_group_total(group_by):\n",
    "    group_result=Tita_df[group_by].groupby(Tita_df[group_by]).count()\n",
    "    return group_result"
   ]
  },
  {
   "cell_type": "code",
   "execution_count": 35,
   "metadata": {},
   "outputs": [
    {
     "name": "stdout",
     "output_type": "stream",
     "text": [
      "Parch\n",
      "0    678\n",
      "1    118\n",
      "2     80\n",
      "3      5\n",
      "4      4\n",
      "5      5\n",
      "6      1\n",
      "Name: Parch, dtype: int64 Parch\n",
      "0    233\n",
      "1     65\n",
      "2     40\n",
      "3      3\n",
      "4      0\n",
      "5      1\n",
      "6      0\n",
      "Name: Survived, dtype: int64\n",
      "SibSp\n",
      "0    608\n",
      "1    209\n",
      "2     28\n",
      "3     16\n",
      "4     18\n",
      "5      5\n",
      "8      7\n",
      "Name: SibSp, dtype: int64 SibSp\n",
      "0    210\n",
      "1    112\n",
      "2     13\n",
      "3      4\n",
      "4      3\n",
      "5      0\n",
      "8      0\n",
      "Name: Survived, dtype: int64\n"
     ]
    }
   ],
   "source": [
    "##Survived VS Total # of parents / children aboard the Titanic\n",
    "Parch_survived_groups=get_group_survived(\"Parch\")\n",
    "Parch_groups=get_group_total('Parch')\n",
    "\n",
    "##Survived VS Total # of siblings / spouses aboard the Titanic\n",
    "Sib_survived_groups=get_group_survived('SibSp')\n",
    "Sib_groups=get_group_total('SibSp')\n",
    "\n",
    "print Parch_groups,Parch_survived_groups\n",
    "print Sib_groups,Sib_survived_groups"
   ]
  },
  {
   "cell_type": "markdown",
   "metadata": {},
   "source": [
    "_The results seems unclear, take a visual on it_"
   ]
  },
  {
   "cell_type": "code",
   "execution_count": 36,
   "metadata": {},
   "outputs": [
    {
     "data": {
      "image/png": "[encoded data removed]",
      "text/plain": [
       "<matplotlib.figure.Figure at 0x114c53d10>"
      ]
     },
     "metadata": {},
     "output_type": "display_data"
    }
   ],
   "source": [
    "plt.plot(Parch_groups,'ro')\n",
    "plt.plot(Parch_survived_groups,'ro',color='orange')\n",
    "plt.show()"
   ]
  },
  {
   "cell_type": "markdown",
   "metadata": {},
   "source": [
    "_The survival rate between people have different # of parents / children aboard the Titanic seems present a weak connection, since some group with more parents / children tends to have higher probablity of survival,while others are not_"
   ]
  },
  {
   "cell_type": "code",
   "execution_count": 37,
   "metadata": {},
   "outputs": [
    {
     "data": {
      "image/png": "[encoded data removed]",
      "text/plain": [
       "<matplotlib.figure.Figure at 0x114d6fe50>"
      ]
     },
     "metadata": {},
     "output_type": "display_data"
    }
   ],
   "source": [
    "plt.plot(Sib_groups,'ro')\n",
    "plt.plot(Sib_survived_groups,'ro',color='orange')\n",
    "plt.show()"
   ]
  },
  {
   "cell_type": "markdown",
   "metadata": {},
   "source": [
    "_The survival rate between people have different # of siblings/ spouse seems more consistent, which is nagetively related_"
   ]
  },
  {
   "cell_type": "code",
   "execution_count": 38,
   "metadata": {},
   "outputs": [
    {
     "data": {
      "text/plain": [
       "count    714.000000\n",
       "mean      29.699118\n",
       "std       14.526497\n",
       "min        0.420000\n",
       "25%       20.125000\n",
       "50%       28.000000\n",
       "75%       38.000000\n",
       "max       80.000000\n",
       "Name: Age, dtype: float64"
      ]
     },
     "execution_count": 38,
     "metadata": {},
     "output_type": "execute_result"
    }
   ],
   "source": [
    "#Check the variable 'Age'\n",
    "Tita_df['Age'].isnull().sum()\n",
    "Tita_df['Age'].describe()"
   ]
  },
  {
   "cell_type": "code",
   "execution_count": 39,
   "metadata": {},
   "outputs": [],
   "source": [
    "## Turn Age into groups, to make the relation more esay to see \n",
    "def Age_groups(age):\n",
    "    if age<16:\n",
    "        return 'Young'\n",
    "    elif age<50:\n",
    "        return 'Adult'\n",
    "    else:\n",
    "        return 'old'\n",
    "\n",
    "Age_group=Tita_df['Age'].apply(Age_groups)"
   ]
  },
  {
   "cell_type": "code",
   "execution_count": null,
   "metadata": {
    "collapsed": true
   },
   "outputs": [],
   "source": []
  },
  {
   "cell_type": "code",
   "execution_count": 40,
   "metadata": {},
   "outputs": [
    {
     "name": "stdout",
     "output_type": "stream",
     "text": [
      "Sex\n",
      "female    314\n",
      "male      577\n",
      "Name: Sex, dtype: int64\n",
      "Sex\n",
      "female    233\n",
      "male      109\n",
      "Name: Survived, dtype: int64\n"
     ]
    }
   ],
   "source": [
    "HCount_by_sex=get_group_total('Sex')\n",
    "print HCount_by_sex\n",
    "\n",
    "Survived_by_sex = get_group_survived('Sex')\n",
    "print Survived_by_sex"
   ]
  },
  {
   "cell_type": "code",
   "execution_count": 14,
   "metadata": {
    "collapsed": true
   },
   "outputs": [],
   "source": [
    "groups=2\n",
    "index=np.arange(groups)"
   ]
  },
  {
   "cell_type": "code",
   "execution_count": 15,
   "metadata": {},
   "outputs": [
    {
     "data": {
      "image/png": "[encoded data removed]",
      "text/plain": [
       "<matplotlib.figure.Figure at 0x113ddb290>"
      ]
     },
     "metadata": {},
     "output_type": "display_data"
    }
   ],
   "source": [
    "plt.barh(index,HCount_by_sex)\n",
    "plt.barh(index,Survived_by_sex ,color='orange')\n",
    "plt.show()"
   ]
  },
  {
   "cell_type": "code",
   "execution_count": 16,
   "metadata": {
    "collapsed": true
   },
   "outputs": [],
   "source": [
    "Survived_by_Pclass=Tita_df['Survived'].groupby(Tita_df['Pclass']).sum()\n",
    "Hcount_Pclass=Tita_df['Pclass'].groupby(Tita_df['Pclass']).count()"
   ]
  },
  {
   "cell_type": "code",
   "execution_count": 17,
   "metadata": {},
   "outputs": [
    {
     "data": {
      "image/png": "[encoded data removed]",
      "text/plain": [
       "<matplotlib.figure.Figure at 0x113db3210>"
      ]
     },
     "metadata": {},
     "output_type": "display_data"
    }
   ],
   "source": [
    "plt.plot(Hcount_Pclass,'ro',color='blue')\n",
    "plt.plot(Survived_by_Pclass,'ro',color='orange')\n",
    "\n",
    "plt.show()"
   ]
  },
  {
   "cell_type": "code",
   "execution_count": 18,
   "metadata": {},
   "outputs": [
    {
     "name": "stdout",
     "output_type": "stream",
     "text": [
      "Intercept      0.711140\n",
      "Sex[T.male]   -0.542190\n",
      "Parch         -0.027126\n",
      "SibSp         -0.047481\n",
      "Fare           0.001832\n",
      "dtype: float64\n",
      "                            OLS Regression Results                            \n",
      "==============================================================================\n",
      "Dep. Variable:               Survived   R-squared:                       0.338\n",
      "Model:                            OLS   Adj. R-squared:                  0.335\n",
      "Method:                 Least Squares   F-statistic:                     112.9\n",
      "Date:                Tue, 01 Aug 2017   Prob (F-statistic):           8.23e-78\n",
      "Time:                        12:29:45   Log-Likelihood:                -438.42\n",
      "No. Observations:                 891   AIC:                             886.8\n",
      "Df Residuals:                     886   BIC:                             910.8\n",
      "Df Model:                           4                                         \n",
      "Covariance Type:            nonrobust                                         \n",
      "===============================================================================\n",
      "                  coef    std err          t      P>|t|      [0.025      0.975]\n",
      "-------------------------------------------------------------------------------\n",
      "Intercept       0.7111      0.027     26.095      0.000       0.658       0.765\n",
      "Sex[T.male]    -0.5422      0.029    -18.707      0.000      -0.599      -0.485\n",
      "Parch          -0.0271      0.019     -1.446      0.149      -0.064       0.010\n",
      "SibSp          -0.0475      0.013     -3.570      0.000      -0.074      -0.021\n",
      "Fare            0.0018      0.000      6.598      0.000       0.001       0.002\n",
      "==============================================================================\n",
      "Omnibus:                       40.062   Durbin-Watson:                   1.948\n",
      "Prob(Omnibus):                  0.000   Jarque-Bera (JB):               44.760\n",
      "Skew:                           0.549   Prob(JB):                     1.91e-10\n",
      "Kurtosis:                       3.001   Cond. No.                         169.\n",
      "==============================================================================\n",
      "\n",
      "Warnings:\n",
      "[1] Standard Errors assume that the covariance matrix of the errors is correctly specified.\n"
     ]
    }
   ],
   "source": [
    "result=sm.ols(formula='Survived~Parch+Sex+SibSp+Fare',data=Tita_df).fit()\n",
    "print result.params\n",
    "print result.summary()"
   ]
  },
  {
   "cell_type": "code",
   "execution_count": null,
   "metadata": {
    "collapsed": true
   },
   "outputs": [],
   "source": []
  }
 ],
 "metadata": {
  "kernelspec": {
   "display_name": "Python 2",
   "language": "python",
   "name": "python2"
  },
  "language_info": {
   "codemirror_mode": {
    "name": "ipython",
    "version": 2
   },
   "file_extension": ".py",
   "mimetype": "text/x-python",
   "name": "python",
   "nbconvert_exporter": "python",
   "pygments_lexer": "ipython2",
   "version": "2.7.13"
  }
 },
 "nbformat": 4,
 "nbformat_minor": 2
}
